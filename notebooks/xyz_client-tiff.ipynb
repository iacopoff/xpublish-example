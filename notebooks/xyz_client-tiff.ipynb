{
 "cells": [
  {
   "cell_type": "code",
   "execution_count": 1,
   "id": "d6e33ac9-cbbb-42ac-a075-94286d0b43fb",
   "metadata": {},
   "outputs": [],
   "source": [
    "from ipyleaflet import Map, LocalTileLayer, projections, basemaps, basemap_to_tiles\n",
    "from ipywidgets import Layout"
   ]
  },
  {
   "cell_type": "code",
   "execution_count": 2,
   "id": "36979137-6112-4772-9a5a-602b2cdfef5c",
   "metadata": {},
   "outputs": [],
   "source": [
    "maptiler = basemap_to_tiles({'url': 'https://api.maptiler.com/maps/basic-4326/256/{z}/{x}/{y}.png?key=lTnnV0EohU1y1mhhwpl9',\n",
    " 'max_zoom': 19,\n",
    " 'attribution': 'Map data (c) <a href=\"https://openstreetmap.org\">OpenStreetMap</a> contributors',\n",
    " 'name': 'Wow'})"
   ]
  },
  {
   "cell_type": "code",
   "execution_count": 16,
   "id": "a9643619-f4ac-4659-959b-a28d4e58133e",
   "metadata": {},
   "outputs": [
    {
     "data": {
      "application/vnd.jupyter.widget-view+json": {
       "model_id": "a79d86e1f1524b29ae46f589b4c92090",
       "version_major": 2,
       "version_minor": 0
      },
      "text/plain": [
       "Map(center=[-20, 50], controls=(ZoomControl(options=['position', 'zoom_in_text', 'zoom_in_title', 'zoom_out_te…"
      ]
     },
     "metadata": {},
     "output_type": "display_data"
    }
   ],
   "source": [
    "defaultLayout=Layout(width='1400px', height='640px')\n",
    "\n",
    "m = Map(center=(-20, 50), zoom=4, layout=defaultLayout,basemap=maptiler)\n",
    "m.add_layer(LocalTileLayer(path='http://127.0.0.1:9000/tiles/dem/{z}/{x}/{y}.PNG'))\n",
    "\n",
    "m"
   ]
  },
  {
   "cell_type": "code",
   "execution_count": null,
   "id": "a19345d2-cc39-43be-a161-faecf7f23b29",
   "metadata": {},
   "outputs": [],
   "source": []
  }
 ],
 "metadata": {
  "kernelspec": {
   "display_name": "xpub",
   "language": "python",
   "name": "xpub"
  },
  "language_info": {
   "codemirror_mode": {
    "name": "ipython",
    "version": 3
   },
   "file_extension": ".py",
   "mimetype": "text/x-python",
   "name": "python",
   "nbconvert_exporter": "python",
   "pygments_lexer": "ipython3",
   "version": "3.8.10"
  }
 },
 "nbformat": 4,
 "nbformat_minor": 5
}
