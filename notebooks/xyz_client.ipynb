{
 "cells": [
  {
   "cell_type": "code",
   "execution_count": 63,
   "id": "7f1388de-ba98-4ef1-9cad-6059446b0a7d",
   "metadata": {},
   "outputs": [],
   "source": [
    "from traitlets import Unicode\n",
    "from ipyleaflet import Map, basemaps, LocalTileLayer\n",
    "from ipywidgets import SelectionSlider\n",
    "from pandas import date_range\n",
    "\n",
    "defaultLayout=Layout(width='960px', height='540px')\n",
    "\n",
    "\n",
    "class TimeTileLayer(LocalTileLayer):\n",
    "    time = Unicode('').tag(sync=True, o=True)\n",
    "\n",
    "    \n",
    "timelayer = TimeTileLayer(path='http://127.0.0.1:9003/tiles/air/{z}/{x}/{y}?time={time}')\n",
    "\n",
    "    \n",
    "m = Map(basemap= basemaps.CartoDB.Positron, center=(39, -105.121558), zoom=2, layout=defaultLayout)\n",
    "m.add_layer(timelayer)"
   ]
  },
  {
   "cell_type": "code",
   "execution_count": 64,
   "id": "63c7b3ea",
   "metadata": {},
   "outputs": [],
   "source": [
    "times = date_range(\"2013-01-01\",\"2013-12-31\",freq=\"24H\").strftime(\"%Y-%m-%dT%H:%M\")"
   ]
  },
  {
   "cell_type": "code",
   "execution_count": 65,
   "id": "11c5f3f4-c2ef-4006-b568-667f6dd76a5f",
   "metadata": {},
   "outputs": [],
   "source": [
    "slider = SelectionSlider(description='Time:', options=times)"
   ]
  },
  {
   "cell_type": "code",
   "execution_count": 66,
   "id": "56332079-04c8-4d3b-a628-8736140ce02f",
   "metadata": {},
   "outputs": [],
   "source": [
    "timelayer.time = slider.value"
   ]
  },
  {
   "cell_type": "code",
   "execution_count": 67,
   "id": "7f73fbb8-484e-4e17-bf0b-fa1843d570ae",
   "metadata": {},
   "outputs": [
    {
     "data": {
      "application/vnd.jupyter.widget-view+json": {
       "model_id": "a9e0dac908ca46fc9798ac5851e06de5",
       "version_major": 2,
       "version_minor": 0
      },
      "text/plain": [
       "SelectionSlider(description='Time:', options=('2013-01-01T00:00', '2013-01-02T00:00', '2013-01-03T00:00', '201…"
      ]
     },
     "metadata": {},
     "output_type": "display_data"
    }
   ],
   "source": [
    "def update(change):\n",
    "    timelayer.time = '{}'.format(slider.value)\n",
    "    timelayer.redraw()\n",
    "\n",
    "\n",
    "slider.observe(update, 'value')\n",
    "slider"
   ]
  },
  {
   "cell_type": "code",
   "execution_count": 68,
   "id": "0a0ccfa5",
   "metadata": {},
   "outputs": [
    {
     "data": {
      "application/vnd.jupyter.widget-view+json": {
       "model_id": "9981c2f8066e4fd395113d57566fceda",
       "version_major": 2,
       "version_minor": 0
      },
      "text/plain": [
       "Map(center=[39, -105.121558], controls=(ZoomControl(options=['position', 'zoom_in_text', 'zoom_in_title', 'zoo…"
      ]
     },
     "metadata": {},
     "output_type": "display_data"
    }
   ],
   "source": [
    "m"
   ]
  },
  {
   "cell_type": "code",
   "execution_count": null,
   "id": "38aa41e7-3a3f-4016-b406-e0c6309e46f3",
   "metadata": {},
   "outputs": [],
   "source": []
  },
  {
   "cell_type": "code",
   "execution_count": null,
   "id": "c7f66ea8-1671-4b9f-8716-36510d9def63",
   "metadata": {},
   "outputs": [],
   "source": []
  }
 ],
 "metadata": {
  "kernelspec": {
   "display_name": "xpub",
   "language": "python",
   "name": "xpub"
  },
  "language_info": {
   "codemirror_mode": {
    "name": "ipython",
    "version": 3
   },
   "file_extension": ".py",
   "mimetype": "text/x-python",
   "name": "python",
   "nbconvert_exporter": "python",
   "pygments_lexer": "ipython3",
   "version": "3.8.10"
  }
 },
 "nbformat": 4,
 "nbformat_minor": 5
}
