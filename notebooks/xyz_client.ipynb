{
 "cells": [
  {
   "cell_type": "code",
   "execution_count": 9,
   "id": "7f1388de-ba98-4ef1-9cad-6059446b0a7d",
   "metadata": {},
   "outputs": [],
   "source": [
    "from traitlets import Unicode\n",
    "from ipyleaflet import Map, WMSLayer, basemaps, LocalTileLayer, basemap_to_tiles, projections\n",
    "from ipywidgets import Layout\n",
    "\n",
    "defaultLayout=Layout(width='960px', height='540px')\n",
    "\n",
    "\n",
    "class TimeTileLayer(LocalTileLayer):\n",
    "\n",
    "    time = Unicode('').tag(sync=True, o=True)\n",
    "\n",
    "\n",
    "    \n",
    "timelayer = TimeTileLayer(path='http://127.0.0.1:9001/tiles/air/{z}/{x}/{y}?time={time}&xlab=lon&ylab=lat')\n",
    "\n",
    "\n",
    "maptiler = basemap_to_tiles({'url': 'https://api.maptiler.com/maps/basic-4326/256/{z}/{x}/{y}.png?key=lTnnV0EohU1y1mhhwpl9',\n",
    " 'max_zoom': 19,\n",
    " 'attribution': 'Map data (c) <a href=\"https://openstreetmap.org\">OpenStreetMap</a> contributors',\n",
    " 'name': 'Wow'})\n",
    "\n",
    "carto = basemaps.CartoDB.Positron\n",
    "    \n",
    "m = Map(basemap= maptiler, center=(39, -105.121558), zoom=2, layout=defaultLayout, projection=projections.EPSG4326)\n",
    "\n",
    "m.add_layer(timelayer)"
   ]
  },
  {
   "cell_type": "code",
   "execution_count": 10,
   "id": "63c7b3ea",
   "metadata": {},
   "outputs": [],
   "source": [
    "from ipywidgets import SelectionSlider\n",
    "from pandas import date_range\n",
    "\n",
    "times = date_range(\"2013-01-01\",\"2013-12-31\",freq=\"24H\").strftime(\"%Y-%m-%dT%H:%M\")"
   ]
  },
  {
   "cell_type": "code",
   "execution_count": 11,
   "id": "de7873d5",
   "metadata": {},
   "outputs": [
    {
     "data": {
      "application/vnd.jupyter.widget-view+json": {
       "model_id": "3150e8ba1cfe474693e56eecb48ad3c2",
       "version_major": 2,
       "version_minor": 0
      },
      "text/plain": [
       "SelectionSlider(description='Time:', options=('2013-01-01T00:00', '2013-01-02T00:00', '2013-01-03T00:00', '201…"
      ]
     },
     "metadata": {},
     "output_type": "display_data"
    }
   ],
   "source": [
    "slider = SelectionSlider(description='Time:', options=times)\n",
    "\n",
    "def update(change):\n",
    "    timelayer.time = '{}'.format(slider.value)\n",
    "    timelayer.redraw()\n",
    "\n",
    "\n",
    "slider.observe(update, 'value')\n",
    "slider"
   ]
  },
  {
   "cell_type": "code",
   "execution_count": 12,
   "id": "0a0ccfa5",
   "metadata": {},
   "outputs": [
    {
     "data": {
      "application/vnd.jupyter.widget-view+json": {
       "model_id": "00623b172a0549039a94e030f0d1471c",
       "version_major": 2,
       "version_minor": 0
      },
      "text/plain": [
       "Map(center=[39, -105.121558], controls=(ZoomControl(options=['position', 'zoom_in_text', 'zoom_in_title', 'zoo…"
      ]
     },
     "metadata": {},
     "output_type": "display_data"
    }
   ],
   "source": [
    "m"
   ]
  },
  {
   "cell_type": "code",
   "execution_count": null,
   "id": "38aa41e7-3a3f-4016-b406-e0c6309e46f3",
   "metadata": {},
   "outputs": [],
   "source": []
  },
  {
   "cell_type": "code",
   "execution_count": null,
   "id": "c7f66ea8-1671-4b9f-8716-36510d9def63",
   "metadata": {},
   "outputs": [],
   "source": []
  }
 ],
 "metadata": {
  "kernelspec": {
   "display_name": "xpub",
   "language": "python",
   "name": "xpub"
  },
  "language_info": {
   "codemirror_mode": {
    "name": "ipython",
    "version": 3
   },
   "file_extension": ".py",
   "mimetype": "text/x-python",
   "name": "python",
   "nbconvert_exporter": "python",
   "pygments_lexer": "ipython3",
   "version": "3.8.10"
  }
 },
 "nbformat": 4,
 "nbformat_minor": 5
}
