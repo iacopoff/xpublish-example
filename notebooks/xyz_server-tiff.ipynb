{
 "cells": [
  {
   "cell_type": "code",
   "execution_count": 1,
   "id": "22f89100-e5fc-479b-97a7-fffe58711ac6",
   "metadata": {},
   "outputs": [],
   "source": [
    "%load_ext autoreload\n",
    "%autoreload 2"
   ]
  },
  {
   "cell_type": "code",
   "execution_count": 6,
   "id": "d26290e1-839a-440a-b246-3d0902d5b7d0",
   "metadata": {},
   "outputs": [],
   "source": [
    "import xarray as xr\n",
    "from colorcet import bmw, coolwarm\n",
    "import zipfile\n",
    "import os,requests\n",
    "import numpy as np\n",
    "from tqdm import tqdm\n",
    "import rioxarray\n",
    "from functools import partial\n",
    "import numpy as np\n",
    "from matplotlib import cm"
   ]
  },
  {
   "cell_type": "code",
   "execution_count": 2,
   "id": "e3c91c9a-2079-4d6e-b52b-4107484e44f1",
   "metadata": {},
   "outputs": [],
   "source": [
    "from xpublish.routers import XYZFactory\n",
    "from xpublish.utils.ows import DataShader, MatplotLib"
   ]
  },
  {
   "cell_type": "code",
   "execution_count": 4,
   "id": "01b6566e-803f-4759-a6c5-fb7c3a04d10e",
   "metadata": {},
   "outputs": [],
   "source": [
    "url = 'https://edcintl.cr.usgs.gov/downloads/sciweb1/shared/hydrosheds/sa_30s_zip_grid/sa_acc_30s_grid.zip'\n",
    "filename = os.path.basename(url)\n",
    "name = filename[:filename.find('_grid')]\n",
    "adffile = name + '/' + name + '/w001001.adf'\n",
    "\n",
    "if not os.path.exists(adffile):\n",
    "    r = requests.get(url, stream=True)\n",
    "    with open(filename, 'wb') as f:\n",
    "        total_length = int(r.headers.get('content-length'))\n",
    "        for chunk in tqdm(r.iter_content(chunk_size=1024), total=(total_length/1024) + 1):\n",
    "            if chunk:\n",
    "                f.write(chunk)\n",
    "                f.flush()\n",
    "    zip = zipfile.ZipFile(filename)\n",
    "    zip.extractall('.')"
   ]
  },
  {
   "cell_type": "code",
   "execution_count": 7,
   "id": "d95dbb3a-39e0-4d46-8dab-63eebbee978c",
   "metadata": {},
   "outputs": [],
   "source": [
    "ds = xr.open_rasterio(adffile)"
   ]
  },
  {
   "cell_type": "code",
   "execution_count": 8,
   "id": "7bb8e5b9-4bcd-4485-b37c-d6ee956c4693",
   "metadata": {},
   "outputs": [],
   "source": [
    "ds = ds.isel(band=0).drop_vars(\"band\")\n",
    "attrs = ds.attrs\n",
    "nodata = ds.nodatavals"
   ]
  },
  {
   "cell_type": "code",
   "execution_count": 12,
   "id": "4fdf3e94-c744-44c0-9e8f-0d129d624c08",
   "metadata": {},
   "outputs": [],
   "source": [
    "dem = ds.to_dataset(name=\"dem\")\n",
    "dem = dem.where(dem != nodata,np.nan)\n",
    "dem = dem.chunk({\"x\":500,\"y\":500})"
   ]
  },
  {
   "cell_type": "markdown",
   "id": "6bc936e5-fd27-4158-a469-bd85b991afb8",
   "metadata": {},
   "source": [
    "## Renderers\n",
    "\n",
    "There are two renders available.\n",
    "\n",
    "A renderer is a specialised subclass of the Renderer class:\n",
    "\n",
    "```python\n",
    "class Renderer:\n",
    "    def __init__(\n",
    "        self, interpolation={}, aggregation={}, normalization={}, color_mapping={}\n",
    "    ):\n",
    "        self.interp_params = interpolation\n",
    "        self.agg_params = aggregation\n",
    "        self.norm_params = normalization\n",
    "        self.cm_params = color_mapping\n",
    "\n",
    "    def interpolation(self, arr):\n",
    "        return arr\n",
    "\n",
    "    def aggregation(self, arr):\n",
    "        return arr\n",
    "\n",
    "    def normalization(self, arr):\n",
    "        return arr\n",
    "\n",
    "    def color_mapping(self, arr):\n",
    "        return arr\n",
    "```\n",
    "\n"
   ]
  },
  {
   "cell_type": "code",
   "execution_count": 23,
   "id": "bae915e9-9c61-47c9-a3a5-0fb8ec37780b",
   "metadata": {},
   "outputs": [],
   "source": [
    "renderer = DataShader(\n",
    "                      aggregation={\"upsample_method\": \"linear\"}, \n",
    "                      color_mapping={ \n",
    "                                \"cmap\": colorcet.rainbow,\n",
    "                                \"how\": \"log\", \n",
    "                                \"span\": [float(np.nanmin(dem[\"dem\"].values)), \n",
    "                                         float(np.nanmax(dem[\"dem\"].values))], \n",
    "                                \"alpha\": 255 }\n",
    "                        )"
   ]
  },
  {
   "cell_type": "code",
   "execution_count": 41,
   "id": "ebfa3a76-7a4b-4871-bf13-61c295b30be0",
   "metadata": {},
   "outputs": [],
   "source": [
    "renderer = MatplotLib(\n",
    "              normalization={\"method\": cm.colors.LogNorm,\n",
    "                             \"method_kwargs\":{\"vmin\":np.nanmin,\n",
    "                                              \"vmax\":np.nanmax}}, # min max calculated on individual tile\n",
    "              color_mapping={\"cm\":\"jet\"}\n",
    "                        )"
   ]
  },
  {
   "cell_type": "code",
   "execution_count": 20,
   "id": "62094ea3-9a92-41ad-a356-5d3775d0e0cb",
   "metadata": {},
   "outputs": [],
   "source": [
    "renderer = MatplotLib(\n",
    "              normalization={\"method\": \"LogNorm\", \n",
    "                             \"method_kwargs\":{\"vmin\":float(np.nanmin(ds2[\"dem\"].values)),\n",
    "                                              \"vmax\":float(np.nanmax(ds2[\"dem\"].values))}}, \n",
    "              color_mapping={\"cm\":\"Blues\"}\n",
    "                        )  "
   ]
  },
  {
   "cell_type": "code",
   "execution_count": 56,
   "id": "44818c10-1461-4ddd-94af-9316afe005c0",
   "metadata": {},
   "outputs": [],
   "source": [
    "renderer = MatplotLib(\n",
    "              normalization={\"method\": cm.colors.LogNorm, \n",
    "                             \"method_kwargs\":{\"vmin\":float(np.nanmin(ds2[\"dem\"].values)),\n",
    "                                              \"vmax\":float(np.nanmax(ds2[\"dem\"].values))}}, \n",
    "              color_mapping={\"cm\":\"jet\", \n",
    "                             \"cm_kwargs\":{\"alpha\":0.5}}\n",
    "                        ) "
   ]
  },
  {
   "cell_type": "markdown",
   "id": "54ca2c97-d51b-45b1-8f1a-c1f5e52b1856",
   "metadata": {},
   "source": [
    "## Transformers:\n",
    "\n",
    "Apply transformation to the individial tiles, follows the example from https://github.com/davidbrochart/xarray_leaflet/blob/master/examples/dynamic.ipynb"
   ]
  },
  {
   "cell_type": "code",
   "execution_count": 25,
   "id": "5b4eceac-b2b8-4fea-b4d9-94e34a9b130e",
   "metadata": {},
   "outputs": [],
   "source": [
    "def transform1(array, *args, **kwargs):\n",
    "    tile_width = 256\n",
    "    tile_height = 256\n",
    "    ny, nx = array.shape\n",
    "    wx = nx // (tile_width // 2)\n",
    "    wy = ny // (tile_height // 2)\n",
    "    dim = {}\n",
    "    if wx > 1:\n",
    "        dim['x'] = wx\n",
    "    if wy > 1:\n",
    "        dim['y'] = wy\n",
    "    array = array.coarsen(**dim, boundary='pad')\n",
    "    with warnings.catch_warnings():\n",
    "        warnings.simplefilter(\"ignore\", category=RuntimeWarning)\n",
    "        array = xr.core.rolling.DataArrayCoarsen.max(array)\n",
    "    return array"
   ]
  },
  {
   "cell_type": "code",
   "execution_count": 26,
   "id": "517b6b8d-5774-47a5-ba9b-89afbe3320cb",
   "metadata": {},
   "outputs": [],
   "source": [
    "def transform2(array, *args, **kwargs):\n",
    "    radius = 2\n",
    "    circle = np.zeros((2*radius+1, 2*radius+1)).astype('uint8')\n",
    "    y, x = np.ogrid[-radius:radius+1,-radius:radius+1]\n",
    "    index = x**2 + y**2 <= radius**2\n",
    "    circle[index] = 1\n",
    "    with warnings.catch_warnings():\n",
    "        warnings.simplefilter(\"ignore\", category=RuntimeWarning)\n",
    "        array = np.sqrt(array)\n",
    "    array.data = scipy.ndimage.maximum_filter(array, footprint=circle)\n",
    "    return array"
   ]
  },
  {
   "cell_type": "markdown",
   "id": "4dc91921-80ce-4c4d-82cf-4614288df526",
   "metadata": {},
   "source": [
    "## Setting the CRS"
   ]
  },
  {
   "cell_type": "code",
   "execution_count": 13,
   "id": "b9f668da-215b-4678-b37c-7013f76db6f6",
   "metadata": {},
   "outputs": [],
   "source": [
    "crs_epsg = 4326"
   ]
  },
  {
   "cell_type": "markdown",
   "id": "6ef03cb0-c390-462e-8a78-9a11b4b9b78e",
   "metadata": {},
   "source": [
    "## Instantiante the xyz router"
   ]
  },
  {
   "cell_type": "code",
   "execution_count": 28,
   "id": "35c66489-d103-4499-94d3-2048774bb846",
   "metadata": {},
   "outputs": [],
   "source": [
    "xyz_router = XYZFactory(crs_epsg=crs_epsg,\n",
    "                        renderer=renderer,\n",
    "                        transformers=[transform1, transform2])"
   ]
  },
  {
   "cell_type": "code",
   "execution_count": 29,
   "id": "0e2de0f6",
   "metadata": {},
   "outputs": [
    {
     "data": {
      "text/plain": [
       "<xpublish.rest.RestAccessor at 0x7f345f84a940>"
      ]
     },
     "execution_count": 29,
     "metadata": {},
     "output_type": "execute_result"
    }
   ],
   "source": [
    "dem.rest(routers=[xyz_router])"
   ]
  },
  {
   "cell_type": "code",
   "execution_count": 30,
   "id": "f278ecc6",
   "metadata": {},
   "outputs": [],
   "source": [
    "import nest_asyncio \n",
    "nest_asyncio.apply()"
   ]
  },
  {
   "cell_type": "code",
   "execution_count": 31,
   "id": "4be45209-a265-45c0-97e7-e36f6ea0a0bd",
   "metadata": {},
   "outputs": [],
   "source": [
    "ds2.rest.serve(port=9000,host='127.0.0.1',log_level='info')"
   ]
  },
  {
   "cell_type": "code",
   "execution_count": null,
   "id": "775d4574-6098-4d37-8d01-b29e8134c4cf",
   "metadata": {},
   "outputs": [],
   "source": []
  }
 ],
 "metadata": {
  "kernelspec": {
   "display_name": "xpub",
   "language": "python",
   "name": "xpub"
  },
  "language_info": {
   "codemirror_mode": {
    "name": "ipython",
    "version": 3
   },
   "file_extension": ".py",
   "mimetype": "text/x-python",
   "name": "python",
   "nbconvert_exporter": "python",
   "pygments_lexer": "ipython3",
   "version": "3.8.10"
  }
 },
 "nbformat": 4,
 "nbformat_minor": 5
}
